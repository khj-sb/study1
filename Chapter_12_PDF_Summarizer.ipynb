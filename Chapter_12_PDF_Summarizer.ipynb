{
 "cells": [
  {
   "cell_type": "markdown",
   "id": "395a6e92",
   "metadata": {},
   "source": [
    "# 12장 인공지능 PDF 문서 요약기"
   ]
  },
  {
   "cell_type": "markdown",
   "id": "9d75fd5d",
   "metadata": {},
   "source": [
    "## 12.1 PDF 문서 읽기"
   ]
  },
  {
   "cell_type": "markdown",
   "id": "dd651395",
   "metadata": {},
   "source": [
    "[12장: 317페이지]"
   ]
  },
  {
   "cell_type": "code",
   "execution_count": 4,
   "id": "f6bfa22b",
   "metadata": {
    "scrolled": true
   },
   "outputs": [
    {
     "name": "stdout",
     "output_type": "stream",
     "text": [
      "- 문서 제목: Zero-Shot Text-to-Image Generation\n",
      "- 문서 저자: Aditya Ramesh, Mikhail Pavlov, Gabriel Goh, Scott Gray, Chelsea Voss, Alec Radford, Mark Chen, Ilya Sutskever\n",
      "- 첫 페이지 내용 일부:\n",
      " Zero-Shot Text-to-Image Generation\n",
      "Aditya Ramesh1Mikhail Pavlov1Gabriel Goh1Scott Gray1\n",
      "Chelsea Voss1Alec Radford1Mark Chen1Ilya Sutskever1\n",
      "Abstract\n",
      "Text-to-image generation has traditionally fo-\n",
      "cused on ﬁnding better modeling assumptions for\n",
      "training on a ﬁxed dataset. These assumptions\n",
      "might invo\n"
     ]
    }
   ],
   "source": [
    "from PyPDF2 import PdfReader\n",
    "\n",
    "pdf_file = 'C:/myPyAI/data/2102.12092v1.pdf' # PDF 파일 경로\n",
    "reader = PdfReader(pdf_file) # PDF 문서 읽기\n",
    "meta = reader.metadata   # PDF 문서의 메타데이터 가져옴(문서 제목, 저자 등)\n",
    "page = reader.pages[0]   # 첫 페이지 내용 가져옴 \n",
    "page_text = page.extract_text() # 페이지의 텍스트 추출 \n",
    "\n",
    "print(\"- 문서 제목:\", meta.title)\n",
    "print(\"- 문서 저자:\", meta.author)\n",
    "print(\"- 첫 페이지 내용 일부:\\n\",  page_text[:300])"
   ]
  },
  {
   "cell_type": "markdown",
   "id": "e16e2485",
   "metadata": {},
   "source": [
    "## 12.2 PDF 문서 요약하기"
   ]
  },
  {
   "cell_type": "markdown",
   "id": "b3445090",
   "metadata": {},
   "source": [
    "[12장: 318페이지]"
   ]
  },
  {
   "cell_type": "code",
   "execution_count": 5,
   "id": "0d72577f",
   "metadata": {},
   "outputs": [
    {
     "name": "stdout",
     "output_type": "stream",
     "text": [
      "- 각 페이지의 토큰 수: [694, 699, 734, 754, 719, 694, 698, 745, 809, 256]\n",
      "- 전체 페이지에서 최대 토큰 수: 809\n",
      "- 전체 페이지의 토큰 수 합계: 6802\n"
     ]
    }
   ],
   "source": [
    "from PyPDF2 import PdfReader\n",
    "import tiktoken\n",
    "\n",
    "pdf_file = 'C:/myPyAI/data/President_Obamas_Farewell_Address_영어_원본.pdf' # PDF 파일 경로\n",
    "reader = PdfReader(pdf_file) # PDF 문서 읽기\n",
    "\n",
    "enc = tiktoken.encoding_for_model(\"gpt-3.5-turbo\")\n",
    "\n",
    "page_token_nums = []\n",
    "for page in reader.pages:\n",
    "    page_text = page.extract_text() # 페이지의 텍스트 추출\n",
    "    token_num = len(enc.encode(page_text)) # 페이지마다 토큰 개수 구하기\n",
    "    page_token_nums.append(token_num)\n",
    "\n",
    "print(\"- 각 페이지의 토큰 수:\", page_token_nums)\n",
    "print(\"- 전체 페이지에서 최대 토큰 수:\", max(page_token_nums))\n",
    "print(\"- 전체 페이지의 토큰 수 합계:\", sum(page_token_nums))"
   ]
  },
  {
   "cell_type": "markdown",
   "id": "73ce2316",
   "metadata": {},
   "source": [
    "[12장: 319페이지]"
   ]
  },
  {
   "cell_type": "code",
   "execution_count": 6,
   "id": "1b46a615",
   "metadata": {},
   "outputs": [],
   "source": [
    "import openai\n",
    "import os\n",
    "\n",
    "# OpenAI 라이브러리를 이용해 텍스트를 요약하는 함수\n",
    "def summarize_text(user_text, lang=\"en\"): # lang 인자에 영어를 기본적으로 지정\n",
    "    # API 키 설정\n",
    "    openai.api_key = os.environ[\"OPENAI_API_KEY\"]\n",
    "\n",
    "    # 대화 메시지 정의\n",
    "    if lang == \"en\":\n",
    "        messages = [ \n",
    "            {\"role\": \"system\", \"content\": \"You are a helpful assistant in the summary.\"},\n",
    "            {\"role\": \"user\", \"content\": f\"Summarize the following. \\n {user_text}\"}\n",
    "        ]\n",
    "    elif lang == \"ko\":\n",
    "        messages = [ \n",
    "            {\"role\": \"system\", \"content\": \"You are a helpful assistant in the summary.\"},\n",
    "            {\"role\": \"user\", \"content\": f\"다음의 내용을 한국어로 요약해 주세요 \\n {user_text}\"}\n",
    "#             {\"role\": \"user\", \"content\": f\"Summarize the following in Korea. \\n {user_text}\"}\n",
    "        ]\n",
    "        \n",
    "    # Chat Completions API 호출\n",
    "    response = openai.ChatCompletion.create(\n",
    "                            model=\"gpt-3.5-turbo\", # 사용할 모델 선택 \n",
    "                            messages=messages, # 전달할 메시지 지정\n",
    "                            max_tokens=2000,  # 응답 최대 토큰 수 지정 \n",
    "                            temperature=0.3,  # 완성의 다양성을 조절하는 온도 설정\n",
    "                            n=1              # 생성할 완성의 개수 지정\n",
    "    )     \n",
    "    summary = response[\"choices\"][0][\"message\"][\"content\"]\n",
    "    return summary"
   ]
  },
  {
   "cell_type": "markdown",
   "id": "422cc300",
   "metadata": {},
   "source": [
    "[12장: 320페이지]"
   ]
  },
  {
   "cell_type": "code",
   "execution_count": 7,
   "id": "028ba71f",
   "metadata": {
    "scrolled": true
   },
   "outputs": [
    {
     "name": "stdout",
     "output_type": "stream",
     "text": [
      "[페이지 요약(축약)]\n",
      " President Obama delivered his Farewell Address in Chicago on January 10, 2017, expressing gratitude to the American people for their support and engagement during his presidency. He reflected on his early days in Chicago, emphasizing the [..이하 생략..]\n"
     ]
    }
   ],
   "source": [
    "from PyPDF2 import PdfReader\n",
    "import textwrap\n",
    "\n",
    "pdf_file = 'C:/myPyAI/data/President_Obamas_Farewell_Address_영어_원본.pdf' # PDF 파일 경로\n",
    "reader = PdfReader(pdf_file) # PDF 문서 읽기\n",
    "page = reader.pages[0]      # 첫 페이지 내용 가져옴 \n",
    "page_text = page.extract_text() # 페이지의 텍스트 추출 \n",
    "\n",
    "summary = summarize_text(page_text) # 첫 페이지 요약 (영어)\n",
    "\n",
    "# 텍스트 축약\n",
    "shorten_summary = textwrap.shorten(summary, 250, placeholder=' [..이하 생략..]')\n",
    "\n",
    "print(\"[페이지 요약(축약)]\\n\", shorten_summary) # 요약 내용 출력(축약)\n",
    "# print(\"[페이지 요약]\\n\", summary) # 요약 내용 출력"
   ]
  },
  {
   "cell_type": "code",
   "execution_count": 8,
   "id": "73215e38",
   "metadata": {},
   "outputs": [
    {
     "name": "stdout",
     "output_type": "stream",
     "text": [
      "[페이지 요약(축약)]\n",
      " 2017년 1월 10일 대통령 오바마의 작별 연설 내용은 다음과 같습니다. 오바마 대통령은 시카고에서 연설을 하며 미국 국민들에게 감사의 말을 전했습니다. 그동안 국민들과의 대화를 통해 더 나은 대통령이 되었고, 더 나은 사람이 되었다고 말했습니다. 그는 시카고에서 자신의 삶의 목적을 찾고 있는 20대 초반 때 교회 단체와 함께 일하며 미국인들의 힘과 존엄성을 목격했다고 이야기했습니다. 또한, 미국의 자유와 민주주의에 대한 [..이하 생략..]\n",
      "[페이지 요약]\n",
      " 2017년 1월 10일 대통령 오바마의 작별 연설 내용은 다음과 같습니다. 오바마 대통령은 시카고에서 연설을 하며 미국 국민들에게 감사의 말을 전했습니다. 그동안 국민들과의 대화를 통해 더 나은 대통령이 되었고, 더 나은 사람이 되었다고 말했습니다. 그는 시카고에서 자신의 삶의 목적을 찾고 있는 20대 초반 때 교회 단체와 함께 일하며 미국인들의 힘과 존엄성을 목격했다고 이야기했습니다. 또한, 미국의 자유와 민주주의에 대한 중요성을 강조하며 시민의 의무와 목적에 대해 이야기했습니다.\n"
     ]
    }
   ],
   "source": [
    "summary = summarize_text(page_text, \"ko\") # 첫 페이지 요약 (한국어)\n",
    "\n",
    "# 텍스트 축약\n",
    "shorten_summary = textwrap.shorten(summary, 250, placeholder=' [..이하 생략..]')\n",
    "\n",
    "print(\"[페이지 요약(축약)]\\n\", shorten_summary) # 요약 내용 출력(축약)\n",
    "print(\"[페이지 요약]\\n\", summary) # 요약 내용 출력"
   ]
  },
  {
   "cell_type": "markdown",
   "id": "bda90a0f",
   "metadata": {},
   "source": [
    "[12장: 321페이지]"
   ]
  },
  {
   "cell_type": "code",
   "execution_count": 9,
   "id": "bce6e944",
   "metadata": {},
   "outputs": [
    {
     "name": "stdout",
     "output_type": "stream",
     "text": [
      "- 요약 개수: 10\n",
      "- 페이지별 요약문: [\"President Obama delivered his Farewell Address in Chicago on January 10, 2017. He expressed gratitude to the American people for their support and engagement during his presidency. Reflecting on his early days in Chicago, he highlighted the importance of community involvement and the power of ordinary people coming together to bring about change. Obama emphasized the core American values of equality, liberty, and the pursuit of happiness, stressing the importance of citizen engagement in shaping a more perfect union. He acknowledged the nation's history of striving for a common good and encouraged continued active citizenship for future generations.\", \"The speaker reflects on America's exceptionalism, highlighting the nation's capacity for change and progress. They acknowledge the challenges and setbacks faced in the journey towards a more inclusive society. The accomplishments achieved during the speaker's tenure, such as economic recovery, diplomatic achievements, and social advancements, are celebrated as examples of American resilience and progress. The audience is credited for being agents of change and contributing to a better, stronger America. The speaker emphasizes the importance of a peaceful transition of power and calls for unity and common purpose in facing future challenges, emphasizing the need for a functioning democracy that reflects the decency of the American people.\", 'The speaker emphasizes the importance of democracy and solidarity in the face of challenges such as growing inequality, demographic changes, and terrorism. They highlight the progress made in the economy, including rising wages and falling poverty rates, but acknowledge that more needs to be done to address economic inequality and provide opportunities for all. The need for a new social compact to ensure education for all, better wages, and updates to the social safety net is also emphasized to address the changing economic landscape and support the middle class.', 'The speaker emphasizes the importance of ensuring that corporations and individuals fulfill their obligations to society in the face of a changing economy. They also highlight the ongoing issue of racial divisions in the country, stressing the need for continued efforts to improve race relations and address discrimination. The speaker calls for a collective effort to understand and empathize with the struggles of all individuals, regardless of race or background, in order to build a more inclusive and just society.', 'The passage discusses the importance of peaceful protests for equal treatment, the history of stereotypes against immigrants, the need for unity and understanding among citizens, the dangers of living in echo chambers, the impact of partisanship on democracy, the necessity of basing opinions on facts, and the challenges posed by climate change. It emphasizes the need for common ground, compromise, and factual information in politics to address issues effectively.', 'The passage emphasizes the importance of acknowledging and addressing problems rather than denying them. It highlights the spirit of innovation and practical problem-solving that has historically guided the United States, emphasizing values such as reason, enterprise, and the primacy of right over might. The text also discusses the challenges to democracy posed by violent extremists and autocrats, stressing the need to uphold principles such as the rule of law, human rights, and freedom of speech. It acknowledges the efforts of military personnel and law enforcement in combating terrorism and emphasizes the importance of remaining vigilant against external threats while also safeguarding the values that define the nation. The passage concludes with a call to protect democracy and uphold the values that make the country strong.', \"The speaker emphasizes the importance of governing surveillance to protect privacy and civil liberties, rejecting discrimination against Muslim Americans. They stress the need to engage in global fights for democracy, human rights, and equality, warning against the dangers of extremism and intolerance. The address calls for vigilance and active participation in defending American values and institutions, highlighting the threats to democracy when taken for granted. The speaker urges for increased voter participation, reduced influence of money in politics, and a focus on transparency and ethics in public service. They emphasize that the power of the Constitution lies in the people's participation and choices, underscoring the responsibility of citizenship in upholding freedoms and the rule of law. The address concludes with a reminder of the ongoing journey to safeguard freedom and the need to preserve self-government with vigilance.\", 'The speaker emphasizes the importance of unity and active citizenship in maintaining a strong democracy. They warn against divisive political discourse and encourage individuals to engage in public service, participate in improving the nation, and take responsibility for electing leaders. The speaker highlights the resilience and goodness of Americans, sharing personal experiences that have reaffirmed their faith in the country. They urge people to stay engaged, get involved, and have faith in the power of ordinary citizens to bring about positive change.', 'In a heartfelt speech, the speaker expresses gratitude and admiration for his wife Michelle, daughters Malia and Sasha, Vice President Joe Biden, his staff, and all the supporters and organizers who contributed to his journey. He praises their kindness, passion, and dedication, and acknowledges the positive impact they have had on the country. The speaker expresses optimism for the future, especially in the hands of the younger generation, whom he describes as unselfish, patriotic, and committed to creating a fair and inclusive America. He believes that their belief in democracy and willingness to embrace change will lead to a bright future for the country.', \"In a farewell speech to the American people, the President expresses gratitude for the opportunity to serve and urges citizens to continue believing in their ability to bring about change. He emphasizes the importance of holding onto the faith and ideals that have shaped the nation's history, encouraging unity and perseverance. The speech concludes with expressions of thanks and blessings for the United States.\"]\n"
     ]
    }
   ],
   "source": [
    "import openai\n",
    "from PyPDF2 import PdfReader\n",
    "import tiktoken\n",
    "import os\n",
    "\n",
    "pdf_file = 'C:/myPyAI/data/President_Obamas_Farewell_Address_영어_원본.pdf' # PDF 파일 경로\n",
    "\n",
    "reader = PdfReader(pdf_file) # PDF 문서 읽기\n",
    "\n",
    "text_summaries = []\n",
    "\n",
    "for page in reader.pages:\n",
    "    page_text = page.extract_text() # 페이지의 텍스트 추출\n",
    "    text_summary = summarize_text(page_text)\n",
    "    text_summaries.append(text_summary)\n",
    "\n",
    "print(\"- 요약 개수:\", len(text_summaries))\n",
    "print(\"- 페이지별 요약문:\", text_summaries)"
   ]
  },
  {
   "cell_type": "markdown",
   "id": "63b893a1",
   "metadata": {},
   "source": [
    "[12장: 322페이지]"
   ]
  },
  {
   "cell_type": "code",
   "execution_count": 10,
   "id": "f128732f",
   "metadata": {},
   "outputs": [],
   "source": [
    "import textwrap\n",
    "import tiktoken\n",
    "\n",
    "# 요약 리스트를 최종적으로 요약하는 함수\n",
    "def summarize_text_final(text_list, lang = 'en'):\n",
    "    # 리스트를 연결해 하나의 요약 문자열로 통합\n",
    "    joined_summary = \" \".join(text_list) \n",
    "\n",
    "    enc = tiktoken.encoding_for_model(\"gpt-3.5-turbo\")\n",
    "    token_num = len(enc.encode(joined_summary)) # 텍스트 문자열의 토큰 개수 구하기\n",
    "\n",
    "    req_max_token = 2000 # 응답을 고려해 설정한 최대 요청 토큰    \n",
    "    final_summary = \"\" # 빈 문자열로 초기화\n",
    "    if token_num < req_max_token: # 설정한 토큰보다 작을 때만 실행 가능\n",
    "        # 하나로 통합한 요약문을 다시 요약\n",
    "        final_summary = summarize_text(joined_summary, lang)\n",
    "        \n",
    "    return token_num, final_summary"
   ]
  },
  {
   "cell_type": "code",
   "execution_count": 14,
   "id": "a10b0700",
   "metadata": {},
   "outputs": [
    {
     "name": "stdout",
     "output_type": "stream",
     "text": [
      "- 통합한 페이지 요약의 토큰 수: 1088\n",
      "- 최종 요약(축약)\n",
      " President Obama delivered his Farewell Address in Chicago, expressing gratitude to the American people for their support during his presidency. He highlighted the importance of community involvement and citizen engagement in bringing [..이하 생략..]\n",
      "President Obama delivered his Farewell Address in Chicago, expressing gratitude to the American people for their support during his presidency. He highlighted the importance of community involvement and citizen engagement in bringing about change, emphasizing core American values like equality and liberty. The speech celebrated accomplishments in economic recovery, diplomacy, and social progress, while acknowledging challenges such as economic inequality and racial divisions. Obama called for unity, democracy, and solidarity in facing future challenges, stressing the need for a new social compact to address changing economic landscapes and support the middle class. He urged for empathy, understanding, and inclusivity to build a more just society, emphasizing the importance of peaceful protests, factual information in politics, and upholding democratic principles. The address concluded with a call to protect democracy, uphold American values, and engage in public service to bring about positive change, expressing optimism for the future in the hands of the younger generation.\n"
     ]
    }
   ],
   "source": [
    "lang = 'en' # 영어로 요약\n",
    "token_num, final_summary = summarize_text_final(text_summaries, lang)\n",
    "\n",
    "if final_summary != \"\":\n",
    "    shorten_final_summary = textwrap.shorten(final_summary, \n",
    "                                             250, \n",
    "                                             placeholder=' [..이하 생략..]')\n",
    "    print(\"- 통합한 페이지 요약의 토큰 수:\", token_num)\n",
    "    print(\"- 최종 요약(축약)\\n\", shorten_final_summary) # 최종 요약문 출력(축약)\n",
    "    print(final_summary )"
   ]
  },
  {
   "cell_type": "markdown",
   "id": "ef033f98",
   "metadata": {},
   "source": [
    "[12장: 323페이지]"
   ]
  },
  {
   "cell_type": "code",
   "execution_count": 15,
   "id": "72afa5f7",
   "metadata": {},
   "outputs": [
    {
     "name": "stdout",
     "output_type": "stream",
     "text": [
      "- 통합한 페이지 요약의 토큰 수: 1088\n",
      "- 최종 요약(축약)\n",
      " 2017년 1월 10일, 오바마 대통령은 시카고에서 이별 연설을 진행했습니다. 그는 대통령으로 임기를 보낼 때 미국 국민들에게 지지와 참여에 대한 감사를 표현했습니다. 시카고 초기의 경험을 회상하며 지역사회 참여의 중요성과 평범한 사람들이 변화를 이끌어내는 힘을 강조했습니다. 오바마는 평등, 자유, 행복의 미국 핵심 가치를 강조하며 시민 참여의 중요성을 강조하여 더 완벽한 연합을 형성하는 데 기여하는 것을 강조했습니다. [..이하 생략..]\n"
     ]
    }
   ],
   "source": [
    "lang = 'ko' # 한국어로 요약\n",
    "token_num, final_summary_ko = summarize_text_final(text_summaries, lang)\n",
    "\n",
    "if final_summary_ko != \"\":\n",
    "    shorten_final_summary_ko = textwrap.shorten(final_summary_ko, \n",
    "                                                250, \n",
    "                                                placeholder=' [..이하 생략..]')\n",
    "    print(\"- 통합한 페이지 요약의 토큰 수:\", token_num)\n",
    "    print(\"- 최종 요약(축약)\\n\", shorten_final_summary_ko) # 최종 요약문 출력(축약)"
   ]
  },
  {
   "cell_type": "markdown",
   "id": "692eaff3",
   "metadata": {},
   "source": [
    "## 12.3 요약한 내용 번역하기"
   ]
  },
  {
   "cell_type": "markdown",
   "id": "c80da547",
   "metadata": {},
   "source": [
    "[12장: 324페이지]"
   ]
  },
  {
   "cell_type": "code",
   "execution_count": 16,
   "id": "60bd4042",
   "metadata": {},
   "outputs": [],
   "source": [
    "import openai\n",
    "import os\n",
    "\n",
    "# OpenAI 라이브러리를 이용해 영어를 한국어로 번역하는 함수\n",
    "def traslate_english_to_korean_using_openAI(text):    \n",
    "    # API 키 설정\n",
    "    openai.api_key = os.environ[\"OPENAI_API_KEY\"]\n",
    "\n",
    "    # 대화 메시지 정의\n",
    "    user_content = f\"Translate the following English sentences into Korean.\\n {text}\"\n",
    "    messages = [ {\"role\": \"user\", \"content\": user_content} ]\n",
    "    \n",
    "    # Chat Completions API 호출\n",
    "    response = openai.ChatCompletion.create(\n",
    "                            model=\"gpt-3.5-turbo\", # 사용할 모델 선택 \n",
    "                            messages=messages,     # 전달할 메시지 지정\n",
    "                            max_tokens=2000,       # 응답 최대 토큰 수 지정 \n",
    "                            temperature=0.3,       # 완성의 다양성을 조절하는 온도 설정\n",
    "                            n=1                    # 생성할 완성의 개수 지정\n",
    "    )\n",
    "\n",
    "    assistant_reply = response.choices[0].message['content'] # 첫 번째 응답 결과 가져오기\n",
    "    \n",
    "    return assistant_reply"
   ]
  },
  {
   "cell_type": "code",
   "execution_count": 17,
   "id": "b3f17ed9",
   "metadata": {},
   "outputs": [
    {
     "name": "stdout",
     "output_type": "stream",
     "text": [
      "[요약 내용 한글 번역(OpenAI 이용)]\n",
      " 오바마 대통령은 시카고에서 이별 연설을 했는데, 미국 국민들에게 대통령으로 재임하는 동안의 지원에 감사를 표했습니다. 그는 변화를 이끌기 위해 공동체 참여와 시민 참여의 중요성을 강조하며, 평등과 자유와 같은 미국의 핵심 가치를 강조했습니다. 연설은 경제 회복, 외교, 사회적 발전에서의 성취를 축하하면서, 경제적 불평등과 인종 갈등과 [..이하 생략..]\n"
     ]
    }
   ],
   "source": [
    "e_text = final_summary\n",
    "k_text = traslate_english_to_korean_using_openAI(e_text) # 영어를 한국어로 번역\n",
    "\n",
    "# 텍스트 축약\n",
    "shorten_k_text = textwrap.shorten(k_text, 200, placeholder=' [..이하 생략..]')\n",
    "\n",
    "print(\"[요약 내용 한글 번역(OpenAI 이용)]\\n\", shorten_k_text) # 번역 내용 출력(축약)"
   ]
  },
  {
   "cell_type": "markdown",
   "id": "4b8742b1",
   "metadata": {},
   "source": [
    "[12장: 325페이지]"
   ]
  },
  {
   "cell_type": "code",
   "execution_count": 19,
   "id": "bf7a9669",
   "metadata": {},
   "outputs": [],
   "source": [
    "import deepl # deepl 라이브러리를 임포트\n",
    "import os\n",
    "\n",
    "# DeepL 라이브러리를 이용해 텍스트를 한국어로 번역하는 함수\n",
    "def traslate_english_to_korean_using_deepL(text):   \n",
    "    auth_key = os.environ[\"DEEPL_AUTH_KEY\"] # DeepL 인증 키\n",
    "    translator = deepl.Translator(auth_key) # translator 객체를 생성\n",
    "\n",
    "    # 번역 결과 객체를 result 변수에 할당\n",
    "    result = translator.translate_text(text, target_lang=\"KO\") \n",
    "    \n",
    "    return result.text"
   ]
  },
  {
   "cell_type": "code",
   "execution_count": 21,
   "id": "e3d77911",
   "metadata": {},
   "outputs": [
    {
     "name": "stdout",
     "output_type": "stream",
     "text": [
      "[요약 내용 한글 번역(DeepL 이용)]\n",
      " 오바마 대통령은 시카고에서 고별 연설을 통해 재임 기간 동안 미국 국민들의 지지에 감사를 표했습니다. 그는 평등과 자유와 같은 미국의 핵심 가치를 강조하면서 변화를 가져오는 데 있어 지역사회 참여와 시민 참여의 중요성을 강조했습니다. 이 연설에서는 경제 회복, 외교, 사회 발전의 성과를 축하하는 한편, 경제적 불평등과 인종 분열과 같은 [..이하 생략..]\n"
     ]
    }
   ],
   "source": [
    "e_text = final_summary\n",
    "k_text = traslate_english_to_korean_using_deepL(e_text) # 영어를 한국어로 번역\n",
    "\n",
    "# 텍스트 축약\n",
    "shorten_k_text = textwrap.shorten(k_text, 200, placeholder=' [..이하 생략..]')\n",
    "\n",
    "print(\"[요약 내용 한글 번역(DeepL 이용)]\\n\", shorten_k_text) # 번역 내용 출력(축약)"
   ]
  },
  {
   "cell_type": "markdown",
   "id": "db4c32fd",
   "metadata": {},
   "source": [
    "[12장: 326페이지]"
   ]
  },
  {
   "cell_type": "code",
   "execution_count": 22,
   "id": "fbe3f3a3",
   "metadata": {},
   "outputs": [
    {
     "name": "stdout",
     "output_type": "stream",
     "text": [
      "Writing C:\\myPyAI\\code\\my_text_sum.py\n"
     ]
    }
   ],
   "source": [
    "%%writefile C:\\myPyAI\\code\\my_text_sum.py\n",
    "# 텍스트 요약을 위한 모듈\n",
    "\n",
    "import openai\n",
    "import os\n",
    "import deepl\n",
    "import tiktoken\n",
    "\n",
    "# OpenAI 라이브러리를 이용해 텍스트를 요약하는 함수\n",
    "def summarize_text(user_text, lang=\"en\"): # lang 인자에 영어를 기본적으로 지정\n",
    "    # API 키 설정\n",
    "    openai.api_key = os.environ[\"OPENAI_API_KEY\"]\n",
    "\n",
    "    # 대화 메시지 정의\n",
    "    if lang == \"en\":\n",
    "        messages = [ \n",
    "            {\"role\": \"system\", \"content\": \"You are a helpful assistant in the summary.\"},\n",
    "            {\"role\": \"user\", \"content\": f\"Summarize the following. \\n {user_text}\"}\n",
    "        ]\n",
    "    elif lang == \"ko\":\n",
    "        messages = [ \n",
    "            {\"role\": \"system\", \"content\": \"You are a helpful assistant in the summary.\"},\n",
    "            {\"role\": \"user\", \"content\": f\"다음의 내용을 한국어로 요약해 주세요 \\n {user_text}\"}\n",
    "#             {\"role\": \"user\", \"content\": f\"Summarize the following in Korea. \\n {user_text}\"}\n",
    "        ]\n",
    "        \n",
    "    # Chat Completions API 호출\n",
    "    response = openai.ChatCompletion.create(\n",
    "                            model=\"gpt-3.5-turbo\", # 사용할 모델 선택 \n",
    "                            messages=messages, # 전달할 메시지 지정\n",
    "                            max_tokens=2000,  # 응답 최대 토큰 수 지정 \n",
    "                            temperature=0.3,  # 완성의 다양성을 조절하는 온도 설정\n",
    "                            n=1              # 생성할 완성의 개수 지정\n",
    "    )     \n",
    "    summary = response[\"choices\"][0][\"message\"][\"content\"]\n",
    "    return summary\n",
    "\n",
    "# 요약 리스트를 최종적으로 요약하는 함수\n",
    "def summarize_text_final(text_list, lang = 'en'):\n",
    "    # 리스트를 연결해 하나의 요약 문자열로 통합\n",
    "    joined_summary = \" \".join(text_list) \n",
    "\n",
    "    enc = tiktoken.encoding_for_model(\"gpt-3.5-turbo\")\n",
    "    token_num = len(enc.encode(joined_summary)) # 텍스트 문자열의 토큰 개수 구하기\n",
    "\n",
    "    req_max_token = 2000 # 응답을 고려해 설정한 최대 요청 토큰    \n",
    "    final_summary = \"\" # 빈 문자열로 초기화\n",
    "    if token_num < req_max_token: # 설정한 토큰보다 작을 때만 실행 가능\n",
    "        # 하나로 통합한 요약문을 다시 요약\n",
    "        final_summary = summarize_text(joined_summary, lang)\n",
    "        \n",
    "    return token_num, final_summary\n",
    "\n",
    "# OpenAI 라이브러리를 이용해 영어를 한국어로 번역하는 함수\n",
    "def traslate_english_to_korean_using_openAI(text):    \n",
    "    # API 키 설정\n",
    "    openai.api_key = os.environ[\"OPENAI_API_KEY\"]\n",
    "\n",
    "    # 대화 메시지 정의\n",
    "    user_content = f\"Translate the following English sentences into Korean.\\n {text}\"\n",
    "    messages = [ {\"role\": \"user\", \"content\": user_content} ]\n",
    "    \n",
    "    # Chat Completions API 호출\n",
    "    response = openai.ChatCompletion.create(\n",
    "                            model=\"gpt-3.5-turbo\", # 사용할 모델 선택 \n",
    "                            messages=messages, # 전달할 메시지 지정\n",
    "                            max_tokens=2000,  # 응답 최대 토큰 수 지정 \n",
    "                            temperature=0.3,  # 완성의 다양성을 조절하는 온도 설정\n",
    "                            n=1               # 생성할 완성의 개수 지정\n",
    "    )\n",
    "\n",
    "    assistant_reply = response.choices[0].message['content'] # 첫 번째 응답 결과 가져오기\n",
    "    \n",
    "    return assistant_reply\n",
    "\n",
    "# DeepL 라이브러리를 이용해 텍스트를 한국어로 번역하는 함수\n",
    "def traslate_english_to_korean_using_deepL(text):   \n",
    "    auth_key = os.environ[\"DEEPL_AUTH_KEY\"] # Deepl 인증 키\n",
    "    translator = deepl.Translator(auth_key) # translator 객체를 생성\n",
    "\n",
    "    result = translator.translate_text(text, target_lang=\"KO\") # 번역 결과 객체를 result 변수에 할당\n",
    "    \n",
    "    return result.text"
   ]
  },
  {
   "cell_type": "markdown",
   "id": "0d527781",
   "metadata": {},
   "source": [
    "## 12.4 PDF 문서를 요약하는 웹 앱"
   ]
  },
  {
   "cell_type": "markdown",
   "id": "4a1aadd0",
   "metadata": {},
   "source": [
    "[12장: 328페이지]"
   ]
  },
  {
   "cell_type": "code",
   "execution_count": 23,
   "id": "5fc29b90",
   "metadata": {},
   "outputs": [
    {
     "name": "stdout",
     "output_type": "stream",
     "text": [
      "Writing C:\\myPyAI\\code\\st\\pdf_summary_app.py\n"
     ]
    }
   ],
   "source": [
    "%%writefile C:\\myPyAI\\code\\st\\pdf_summary_app.py\n",
    "# PDF 문서를 요약하는 웹 앱\n",
    "\n",
    "import my_text_sum # 텍스트를 요약하기 위한 모듈\n",
    "import streamlit as st\n",
    "import openai\n",
    "import os\n",
    "from PyPDF2 import PdfReader\n",
    "import tiktoken\n",
    "import textwrap\n",
    "\n",
    "# PDF 파일을 요약하는 함수\n",
    "def summarize_PDF_file(pdf_file, lang, trans_checked):\n",
    "    if (pdf_file is not None):\n",
    "        st.write(\"PDF 문서를 요약 중입니다. 잠시만 기다려 주세요.\") \n",
    "        reader = PdfReader(pdf_file) # PDF 문서 읽기\n",
    "\n",
    "        text_summaries = []\n",
    "        \n",
    "        for page in reader.pages:\n",
    "            page_text = page.extract_text() # 페이지의 텍스트 추출\n",
    "            text_summary = my_text_sum.summarize_text(page_text, lang)\n",
    "            text_summaries.append(text_summary)\n",
    "            \n",
    "        token_num, final_summary = my_text_sum.summarize_text_final(text_summaries, lang)\n",
    "        \n",
    "        if final_summary != \"\":\n",
    "            shorten_final_summary = textwrap.shorten(final_summary, \n",
    "                                                     250, \n",
    "                                                     placeholder=' [..이하 생략..]')\n",
    "\n",
    "            st.write(\"- 최종 요약(축약):\", shorten_final_summary) # 최종 요약문 출력 (축약)\n",
    "            #st.write(\"- 최종 요약:\", shorten_final_summary) # 최종 요약문 출력\n",
    "\n",
    "            if trans_checked:\n",
    "                trans_result = my_text_sum.traslate_english_to_korean_using_openAI(final_summary)\n",
    "                shorten_trans_result = textwrap.shorten(trans_result, \n",
    "                                                        200, \n",
    "                                                        placeholder=' [..이하 생략..]')\n",
    "                st.write(\"- 한국어 요약(축약):\", shorten_trans_result) # 한국어 번역문 출력 (축약)\n",
    "                #st.write(\"- 한국어 요약:\", trans_result) # 한국어 번역문 출력\n",
    "        else:\n",
    "            st.write(\"- 통합한 요약문의 토큰 수가 커서 요약할 수 없습니다.\")\n",
    "\n",
    "# ------------- 메인 화면 구성 --------------------------  \n",
    "st.title(\"PDF 문서를 요약하는 웹 앱\")\n",
    "\n",
    "uploaded_file = st.file_uploader(\"PDF 파일을 업로드하세요.\", type='pdf')\n",
    "\n",
    "radio_selected_lang = st.radio('PDF 문서 언어', ['한국어', '영어'], index=1, horizontal=True)\n",
    "\n",
    "if radio_selected_lang == '영어':\n",
    "    lang_code = 'en' \n",
    "    checked = st.checkbox('한국어 번역 추가') # 체크박스 생성\n",
    "else:\n",
    "    lang_code = 'ko' \n",
    "    checked = False # 체크박스 불필요\n",
    "    \n",
    "clicked = st.button('PDF 문서 요약')\n",
    "\n",
    "if clicked:\n",
    "    summarize_PDF_file(uploaded_file, lang_code, checked) # PDF 파일 요약 수행"
   ]
  },
  {
   "cell_type": "markdown",
   "id": "ca1f6fa4",
   "metadata": {},
   "source": [
    "## 12.5 정리"
   ]
  },
  {
   "cell_type": "code",
   "execution_count": null,
   "id": "a21a696c-71c0-4ece-88a2-e73420de95c3",
   "metadata": {},
   "outputs": [],
   "source": []
  }
 ],
 "metadata": {
  "kernelspec": {
   "display_name": "Python 3 (ipykernel)",
   "language": "python",
   "name": "python3"
  },
  "language_info": {
   "codemirror_mode": {
    "name": "ipython",
    "version": 3
   },
   "file_extension": ".py",
   "mimetype": "text/x-python",
   "name": "python",
   "nbconvert_exporter": "python",
   "pygments_lexer": "ipython3",
   "version": "3.12.4"
  },
  "toc": {
   "base_numbering": "12",
   "nav_menu": {},
   "number_sections": false,
   "sideBar": true,
   "skip_h1_title": false,
   "title_cell": "Table of Contents",
   "title_sidebar": "Contents",
   "toc_cell": false,
   "toc_position": {
    "height": "calc(100% - 180px)",
    "left": "10px",
    "top": "150px",
    "width": "338.767px"
   },
   "toc_section_display": true,
   "toc_window_display": false
  }
 },
 "nbformat": 4,
 "nbformat_minor": 5
}
